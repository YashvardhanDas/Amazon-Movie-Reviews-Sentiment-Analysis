{
 "cells": [
  {
   "cell_type": "code",
   "execution_count": 1,
   "metadata": {},
   "outputs": [],
   "source": [
    "import pandas as pd\n",
    "import numpy as np\n",
    "import matplotlib.pyplot as plt\n",
    "import collections"
   ]
  },
  {
   "cell_type": "code",
   "execution_count": 2,
   "metadata": {},
   "outputs": [],
   "source": [
    "def get_data(filename, columns):\n",
    "    \"\"\"\n",
    "    Params : \n",
    "        dataset_file : string\n",
    "                        File as mentioned in the cli interface\n",
    "    Returns :\n",
    "        data : pandas dataframe\n",
    "                data loaded from the dataset_file\n",
    "    \"\"\"\n",
    "    df=pd.read_csv(filename)\n",
    "    df=df[columns]\n",
    "#     df[columns[2]] = df[columns[2]].str.replace('$', '')\n",
    "#     df[columns[2]] = df[columns[2]].str.replace(',', '')\n",
    "#     df= df.astype(float)\n",
    "    return df\n",
    "\n",
    "def preprocess_df(df):\n",
    "    \"\"\"\n",
    "    Params :\n",
    "        df : Pandas dataframe\n",
    "            Data\n",
    "    Returns : \n",
    "        df : Pandas dataframe\n",
    "            Drop rows with empty columns and standardize data\n",
    "    \"\"\"\n",
    "#     df[columns] = df[columns].replace(0, np.nan)\n",
    "    df=df.dropna()\n",
    "#     normalized_df=(df-df.mean())/df.std()\n",
    "#     return normalized_df\n",
    "    return df\n",
    "\n",
    "def plot_score(df):\n",
    "    \"\"\"\n",
    "    Params :\n",
    "        df : Pandas dataframe\n",
    "            Data\n",
    "    \"\"\"    \n",
    "    print(\"Data ranges from min\",df['Score'].min(),\" to max\",df['Score'].max())\n",
    "    x=[i for i in range(df.shape[0])]\n",
    "    plt.scatter(df['Score'],x)\n",
    "    plt.show()\n",
    "    \n",
    "def get_word_counts(df):\n",
    "    counts=[]\n",
    "    for sentence in df['Text'].values:\n",
    "        counts.append(len(sentence.split()))\n",
    "    return counts\n",
    "\n",
    "def plot_word_counts(data):\n",
    "    keys=[]\n",
    "    values=[]\n",
    "    maxx=0\n",
    "    minn=-1\n",
    "    key_max=-1\n",
    "    count_dict=collections.Counter(data)\n",
    "    for key in count_dict:\n",
    "        keys.append(key)\n",
    "        values.append(count_dict[key])\n",
    "        if(count_dict[key]>maxx):\n",
    "            maxx=count_dict[key]\n",
    "            key_max=key\n",
    "        if(minn==-1 or count_dict[key]<minn):\n",
    "            minn=count_dict[key]\n",
    "    print(\"Most reviews have\",key_max,\"number of words\")\n",
    "#     print(\"Minimum frequency of words in a review\", minn)\n",
    "    print(\"Maximum number of words in a review\", np.max(keys))\n",
    "    print(\"Minimum number of words in a review\", np.min(values))\n",
    "    plt.figure(figsize=(10,10))\n",
    "    plt.title(\"Word Freq Graph\")\n",
    "    plt.xlabel(\"Number of words in a review\", fontsize = 15)\n",
    "    plt.ylabel(\"Frequency\", fontsize = 15)\n",
    "    plt.scatter(keys,values)\n",
    "    plt.show()"
   ]
  },
  {
   "cell_type": "code",
   "execution_count": 3,
   "metadata": {},
   "outputs": [],
   "source": [
    "data_path='data/'\n",
    "columns=['Id','Score','Text']\n",
    "df=get_data(data_path+'train.csv',columns)"
   ]
  },
  {
   "cell_type": "code",
   "execution_count": 4,
   "metadata": {},
   "outputs": [
    {
     "name": "stdout",
     "output_type": "stream",
     "text": [
      "Shape of dataframe before processing (1697533, 3)\n"
     ]
    },
    {
     "data": {
      "text/html": [
       "<div>\n",
       "<style scoped>\n",
       "    .dataframe tbody tr th:only-of-type {\n",
       "        vertical-align: middle;\n",
       "    }\n",
       "\n",
       "    .dataframe tbody tr th {\n",
       "        vertical-align: top;\n",
       "    }\n",
       "\n",
       "    .dataframe thead th {\n",
       "        text-align: right;\n",
       "    }\n",
       "</style>\n",
       "<table border=\"1\" class=\"dataframe\">\n",
       "  <thead>\n",
       "    <tr style=\"text-align: right;\">\n",
       "      <th></th>\n",
       "      <th>Id</th>\n",
       "      <th>Score</th>\n",
       "      <th>Text</th>\n",
       "    </tr>\n",
       "  </thead>\n",
       "  <tbody>\n",
       "    <tr>\n",
       "      <th>0</th>\n",
       "      <td>0</td>\n",
       "      <td>4.0</td>\n",
       "      <td>This is a charming version of the classic Dick...</td>\n",
       "    </tr>\n",
       "    <tr>\n",
       "      <th>1</th>\n",
       "      <td>1</td>\n",
       "      <td>3.0</td>\n",
       "      <td>It was good but not as emotionally moving as t...</td>\n",
       "    </tr>\n",
       "    <tr>\n",
       "      <th>2</th>\n",
       "      <td>2</td>\n",
       "      <td>3.0</td>\n",
       "      <td>Don't get me wrong, Winkler is a wonderful cha...</td>\n",
       "    </tr>\n",
       "    <tr>\n",
       "      <th>3</th>\n",
       "      <td>3</td>\n",
       "      <td>5.0</td>\n",
       "      <td>Henry Winkler is very good in this twist on th...</td>\n",
       "    </tr>\n",
       "    <tr>\n",
       "      <th>4</th>\n",
       "      <td>4</td>\n",
       "      <td>4.0</td>\n",
       "      <td>This is one of the best Scrooge movies out.  H...</td>\n",
       "    </tr>\n",
       "  </tbody>\n",
       "</table>\n",
       "</div>"
      ],
      "text/plain": [
       "   Id  Score                                               Text\n",
       "0   0    4.0  This is a charming version of the classic Dick...\n",
       "1   1    3.0  It was good but not as emotionally moving as t...\n",
       "2   2    3.0  Don't get me wrong, Winkler is a wonderful cha...\n",
       "3   3    5.0  Henry Winkler is very good in this twist on th...\n",
       "4   4    4.0  This is one of the best Scrooge movies out.  H..."
      ]
     },
     "execution_count": 4,
     "metadata": {},
     "output_type": "execute_result"
    }
   ],
   "source": [
    "print(\"Shape of dataframe before processing\",df.shape)\n",
    "df.head()"
   ]
  },
  {
   "cell_type": "code",
   "execution_count": 5,
   "metadata": {},
   "outputs": [
    {
     "name": "stdout",
     "output_type": "stream",
     "text": [
      "Shape of dataframe after preprocssing (1397480, 3)\n"
     ]
    }
   ],
   "source": [
    "df_original=df\n",
    "df=preprocess_df(df)\n",
    "print(\"Shape of dataframe after preprocssing\",df.shape)"
   ]
  },
  {
   "cell_type": "code",
   "execution_count": 6,
   "metadata": {},
   "outputs": [],
   "source": [
    "# for sake of simplicity \n",
    "df_train=df[:10000]\n",
    "df_test=df[10000:15000]"
   ]
  },
  {
   "cell_type": "markdown",
   "metadata": {},
   "source": [
    "# Now we should\n",
    "1. Check range of scores - regression or classification\n",
    "2. Check if text values are null"
   ]
  },
  {
   "cell_type": "code",
   "execution_count": 7,
   "metadata": {},
   "outputs": [],
   "source": [
    "# Plot vis of df scores "
   ]
  },
  {
   "cell_type": "code",
   "execution_count": 9,
   "metadata": {},
   "outputs": [
    {
     "name": "stdout",
     "output_type": "stream",
     "text": [
      "Data ranges from min 1.0  to max 5.0\n"
     ]
    },
    {
     "data": {
      "image/png": "[encoded data removed]",
      "text/plain": [
       "<Figure size 432x288 with 1 Axes>"
      ]
     },
     "metadata": {
      "needs_background": "light"
     },
     "output_type": "display_data"
    }
   ],
   "source": [
    "plot_score(df_train)"
   ]
  },
  {
   "cell_type": "code",
   "execution_count": 10,
   "metadata": {},
   "outputs": [
    {
     "name": "stdout",
     "output_type": "stream",
     "text": [
      "Most reviews have 21 number of words\n",
      "Maximum number of words in a review 2911\n",
      "Minimum number of words in a review 1\n"
     ]
    },
    {
     "data": {
      "image/png": "[encoded data removed]",
      "text/plain": [
       "<Figure size 720x720 with 1 Axes>"
      ]
     },
     "metadata": {
      "needs_background": "light"
     },
     "output_type": "display_data"
    }
   ],
   "source": [
    "word_counts=get_word_counts(df_train)\n",
    "plot_word_counts(word_counts)"
   ]
  },
  {
   "cell_type": "markdown",
   "metadata": {},
   "source": [
    "## Now we do it as a classification task"
   ]
  },
  {
   "cell_type": "code",
   "execution_count": 11,
   "metadata": {},
   "outputs": [],
   "source": [
    "from sklearn.feature_extraction.text import TfidfVectorizer\n",
    "\n",
    "vectorizer = TfidfVectorizer()\n",
    "vectorizer.fit(df_train['Text'])\n",
    "X = vectorizer.transform(df_train['Text'])"
   ]
  },
  {
   "cell_type": "code",
   "execution_count": 12,
   "metadata": {},
   "outputs": [],
   "source": [
    "# del X\n",
    "# del vectorizer"
   ]
  },
  {
   "cell_type": "code",
   "execution_count": 14,
   "metadata": {},
   "outputs": [
    {
     "data": {
      "text/plain": [
       "LinearSVC(C=1.0, class_weight=None, dual=False, fit_intercept=True,\n",
       "          intercept_scaling=1, loss='squared_hinge', max_iter=1000,\n",
       "          multi_class='ovr', penalty='l1', random_state=None, tol=0.0001,\n",
       "          verbose=0)"
      ]
     },
     "execution_count": 14,
     "metadata": {},
     "output_type": "execute_result"
    }
   ],
   "source": [
    "# from sklearn.svm import SVC\n",
    "# clf = SVC(gamma='auto')\n",
    "# clf.fit(X, df['Score']) \n",
    "\n",
    "from sklearn.svm import LinearSVC\n",
    "# from sklearn.datasets import make_classification\n",
    "# X, y = make_classification(n_features=4, random_state=0)\n",
    "# clf = LinearSVC(random_state=0, tol=1e-5)\n",
    "clf = LinearSVC(dual=False,penalty='l1')\n",
    "clf.fit(X, df_train['Score'])  "
   ]
  },
  {
   "cell_type": "code",
   "execution_count": 15,
   "metadata": {},
   "outputs": [
    {
     "name": "stdout",
     "output_type": "stream",
     "text": [
      "(5000, 3)\n"
     ]
    }
   ],
   "source": [
    "# df_test=get_data(data_path+\"test.csv\",['Id'])\n",
    "# df_test = df_test.merge(df_original, on='Id', how = 'inner')\n",
    "# df_test = df_test[['Id','Text']]\n",
    "# df_test=df_test.fillna('')\n",
    "print(df_test.shape)"
   ]
  },
  {
   "cell_type": "code",
   "execution_count": 18,
   "metadata": {},
   "outputs": [],
   "source": [
    "def accuracy(predictions,y_true):\n",
    "    return np.sum(predictions==y_true)/len(y_true)"
   ]
  },
  {
   "cell_type": "code",
   "execution_count": 19,
   "metadata": {},
   "outputs": [
    {
     "name": "stdout",
     "output_type": "stream",
     "text": [
      "0.586\n"
     ]
    }
   ],
   "source": [
    "predictions=clf.predict(vectorizer.transform(df_test['Text']))\n",
    "print(accuracy(predictions,df_test['Score']))"
   ]
  },
  {
   "cell_type": "code",
   "execution_count": 17,
   "metadata": {},
   "outputs": [],
   "source": [
    "# submission = pd.DataFrame({'Id':df_test['Id'],'Score':predictions})\n",
    "# filename = 'submission.csv'\n",
    "\n",
    "# submission.to_csv(filename,index=False)\n",
    "\n",
    "# print('Saved file: ' + filename)"
   ]
  },
  {
   "cell_type": "markdown",
   "metadata": {},
   "source": [
    "Work flow\n",
    "1. Remove stop words\n",
    "2. Lemmatization\n",
    "3. Tfidf\n",
    "4. Run Regression models -SVC, linear regression"
   ]
  },
  {
   "cell_type": "markdown",
   "metadata": {},
   "source": [
    "Or clustering and assigning ratings to cluster"
   ]
  },
  {
   "cell_type": "markdown",
   "metadata": {},
   "source": [
    "Decision tree binning"
   ]
  },
  {
   "cell_type": "markdown",
   "metadata": {},
   "source": [
    "SVM binning"
   ]
  }
 ],
 "metadata": {
  "kernelspec": {
   "display_name": "Python 3",
   "language": "python",
   "name": "python3"
  },
  "language_info": {
   "codemirror_mode": {
    "name": "ipython",
    "version": 3
   },
   "file_extension": ".py",
   "mimetype": "text/x-python",
   "name": "python",
   "nbconvert_exporter": "python",
   "pygments_lexer": "ipython3",
   "version": "3.6.9"
  }
 },
 "nbformat": 4,
 "nbformat_minor": 2
}
